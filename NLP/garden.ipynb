{
 "cells": [
  {
   "cell_type": "markdown",
   "id": "fbaff084",
   "metadata": {},
   "source": [
    "# Compulsory Task 1\n",
    "## NPL "
   ]
  },
  {
   "cell_type": "code",
   "execution_count": 2,
   "id": "6af23d31",
   "metadata": {},
   "outputs": [],
   "source": [
    "# Import necessary libraries\n",
    "import spacy\n",
    "\n",
    "# Load the small English model\n",
    "nlp = spacy.load('en_core_web_sm')"
   ]
  },
  {
   "cell_type": "code",
   "execution_count": 3,
   "id": "049d410f",
   "metadata": {},
   "outputs": [],
   "source": [
    "# Create a list with garden path sentences\n",
    "gardenpathSentences = [\n",
    "    \"The old man the boat.\",\n",
    "    \"The complex houses married and single soldiers and their families.\",\n",
    "    \"The horse raced past the barn fell.\",\n",
    "    \"Mary gave the child a Band-Aid.\",\n",
    "    \"That Jill is never here hurts.\",\n",
    "    \"The cotton clothing is made of grows in Mississippi.\"\n",
    "]\n",
    "\n"
   ]
  },
  {
   "cell_type": "code",
   "execution_count": 6,
   "id": "67f3c9ea",
   "metadata": {},
   "outputs": [
    {
     "name": "stdout",
     "output_type": "stream",
     "text": [
      "Sentence: The old man the boat.\n",
      "Tokens: ['The', 'old', 'man', 'the', 'boat', '.']\n",
      "Named Entities:\n",
      "  None found.\n",
      "----------------------------------------\n",
      "\n",
      "Sentence: The complex houses married and single soldiers and their families.\n",
      "Tokens: ['The', 'complex', 'houses', 'married', 'and', 'single', 'soldiers', 'and', 'their', 'families', '.']\n",
      "Named Entities:\n",
      "  None found.\n",
      "----------------------------------------\n",
      "\n",
      "Sentence: The horse raced past the barn fell.\n",
      "Tokens: ['The', 'horse', 'raced', 'past', 'the', 'barn', 'fell', '.']\n",
      "Named Entities:\n",
      "  None found.\n",
      "----------------------------------------\n",
      "\n",
      "Sentence: Mary gave the child a Band-Aid.\n",
      "Tokens: ['Mary', 'gave', 'the', 'child', 'a', 'Band', '-', 'Aid', '.']\n",
      "Named Entities:\n",
      "  - Mary (PERSON)\n",
      "    Explanation: People, including fictional\n",
      "----------------------------------------\n",
      "\n",
      "Sentence: That Jill is never here hurts.\n",
      "Tokens: ['That', 'Jill', 'is', 'never', 'here', 'hurts', '.']\n",
      "Named Entities:\n",
      "  - Jill (PERSON)\n",
      "    Explanation: People, including fictional\n",
      "----------------------------------------\n",
      "\n",
      "Sentence: The cotton clothing is made of grows in Mississippi.\n",
      "Tokens: ['The', 'cotton', 'clothing', 'is', 'made', 'of', 'grows', 'in', 'Mississippi', '.']\n",
      "Named Entities:\n",
      "  - Mississippi (GPE)\n",
      "    Explanation: Countries, cities, states\n",
      "----------------------------------------\n",
      "\n"
     ]
    }
   ],
   "source": [
    "# Tokenise each sentence and extract named entities\n",
    "for sentence in gardenpathSentences:\n",
    "    doc = nlp(sentence)\n",
    "    print(f\"Sentence: {sentence}\")\n",
    "    print(\"Tokens:\", [token.text for token in doc])\n",
    "    print(\"Named Entities:\")\n",
    "    if doc.ents:\n",
    "        for ent in doc.ents:\n",
    "            print(f\"  - {ent.text} ({ent.label_})\")\n",
    "            print(f\"    Explanation: {spacy.explain(ent.label_)}\")\n",
    "    else:\n",
    "        print(\"  None found.\")\n",
    "    print('-' * 40, end='\\n\\n')\n"
   ]
  },
  {
   "cell_type": "markdown",
   "id": "a95cfa30",
   "metadata": {},
   "source": [
    "# Reflection on Named Entities\n",
    "\n",
    "- **Entity: PERSON**  \n",
    "  Explanation: People, including fictional  \n",
    "  This label was applied to \"Mary\" and \"Jill,\" which makes perfect sense as they are names of people in the sentences.\n",
    "\n",
    "- **Entity: GPE**  \n",
    "  Explanation: Countries, cities, states  \n",
    "  This label was applied to \"Mississippi,\" which is a state in the USA, so the label fits well.\n"
   ]
  }
 ],
 "metadata": {
  "kernelspec": {
   "display_name": "Python 3",
   "language": "python",
   "name": "python3"
  },
  "language_info": {
   "codemirror_mode": {
    "name": "ipython",
    "version": 3
   },
   "file_extension": ".py",
   "mimetype": "text/x-python",
   "name": "python",
   "nbconvert_exporter": "python",
   "pygments_lexer": "ipython3",
   "version": "3.13.3"
  }
 },
 "nbformat": 4,
 "nbformat_minor": 5
}
